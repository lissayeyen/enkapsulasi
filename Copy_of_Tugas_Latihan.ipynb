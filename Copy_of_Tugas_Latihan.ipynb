{
  "nbformat": 4,
  "nbformat_minor": 0,
  "metadata": {
    "colab": {
      "provenance": [],
      "include_colab_link": true
    },
    "kernelspec": {
      "name": "python3",
      "display_name": "Python 3"
    },
    "language_info": {
      "name": "python"
    }
  },
  "cells": [
    {
      "cell_type": "markdown",
      "metadata": {
        "id": "view-in-github",
        "colab_type": "text"
      },
      "source": [
        "<a href=\"https://colab.research.google.com/github/lissayeyen/enkapsulasi/blob/main/Copy_of_Tugas_Latihan.ipynb\" target=\"_parent\"><img src=\"https://colab.research.google.com/assets/colab-badge.svg\" alt=\"Open In Colab\"/></a>"
      ]
    },
    {
      "cell_type": "markdown",
      "source": [
        "Sebuah start-up GoPay merupakan perusahaan vintage yang menjadi alat pembayaran aplikasi marketplace dan lainnya. Anda seorang programmer yang ditugaskan untuk membuat aplikasi GoPay yang memiliki sebuah class bernama AkunGopay, yang memiliki atribut no_hp, nama dan saldo, dimana semua atribut bersifat private, demi keamanan.\n",
        "\n",
        "\n",
        "Pengguna bisa mendaftar akun GoPay dengan no_hp dan nama saja, namun juga bisa mendaftar dengan no_hp, nama dan saldo. Jika mendaftar dengan no_hp dan nama saja maka saldo otomatis bernilai 0.\n",
        "\n",
        "\n",
        "Class AkunGopay harus menyediakan fungsi yang dapat diakses oleh Marketplace untuk melakukan transaksi, yaitu :\n",
        "\n",
        "1.   topUp(), yang digunakan untuk menambahkan saldo\n",
        "2.   bayarTransaksi(), yang mengurangi saldo ketika melakukan transaksi\n",
        "3.   getSaldo(), untuk mengetahui jumlah saldo\n",
        "\n",
        "\n",
        "\n",
        "Teman Anda adalah seorang programer yang bekerja di sebuah start-up terkemuka Tokopedia yang bekerjasama dengan start-up keuangan GoPay. Anda ditugaskan membuat apikasi yang memiliki class AkunToped, dan memiliki atribut nama dan nomer_hp.\n",
        "\n",
        "Class AkunToped harus menyediakan fungsi yang untuk melakukan transaksi, yaitu:\n",
        "\n",
        "1. transaksi(), yang digunakan untuk mengurangi saldo Gopay dengan paramater nominal transaksi.\n",
        "2. getSaldo(), untuk mengetahui jumlah saldo Gopay.\n",
        "\n"
      ],
      "metadata": {
        "id": "NOQKwrfHB4pv"
      }
    },
    {
      "cell_type": "code",
      "execution_count": 1,
      "metadata": {
        "id": "peDTMz-5kxlh"
      },
      "outputs": [],
      "source": [
        "class AkunGopay:\n",
        "  def __init__(self, no_hp, nama, saldo):\n",
        "    self.__no_hp = no_hp\n",
        "    self.__nama = nama\n",
        "    self.__saldo = saldo\n",
        "\n",
        "  def topUp(self, jumlah):\n",
        "      self.__saldo += jumlah\n",
        "      print(\"Top up berhasil. Saldo Anda Gopay sekarang: \", self.__saldo)\n",
        "\n",
        "  def bayarTransaksi(self, jumlah):\n",
        "      if jumlah <= self.__saldo:\n",
        "         self.__saldo -= jumlah\n",
        "         print(\"Transaksi berhasil. Saldo Anda Gopay sekarang: \", self.__saldo)\n",
        "      else:\n",
        "         print(\"Transaksi gagal. Saldo tidak mencukupi.\")\n",
        "\n",
        "  def getSaldo(self):\n",
        "      print(\"Saldo Gopay Anda saat ini: \", self.__saldo)\n",
        "\n",
        "class AkunToped:\n",
        "  def __init__(self, nama, nomer_hp):\n",
        "    self.__nama = nama\n",
        "    self.__nomer_hp = nomer_hp\n",
        "    self.saldo = 0\n",
        "\n",
        "  def transaksi(self, nominal):\n",
        "      if nominal > self.saldo:\n",
        "          print(\"Transaksi ke akun Toped gagal.\")\n",
        "      else:\n",
        "         self.saldo -= nominal\n",
        "         print(\"Transaksi berhasil. Saldo Toped anda sekarang: \")\n",
        "\n",
        "  def getSaldo(self):\n",
        "      print(\"Saldo Toped Anda saat ini: \", self.saldo)"
      ]
    },
    {
      "cell_type": "code",
      "source": [
        "# membuat objek akunGopay\n",
        "akunGopay1 = AkunGopay(\"0857632194\", \"siti\", 90000)\n",
        "akunToped = AkunToped(\"siti\", \"0857632194\")\n",
        "\n",
        "akunGopay1.getSaldo()\n",
        "akunGopay1.topUp(20000)\n",
        "akunGopay1.bayarTransaksi(20000)\n",
        "print('')\n",
        "\n",
        "akunToped.getSaldo()\n",
        "akunToped.transaksi(50000)\n",
        "akunToped.getSaldo()\n",
        "akunToped.transaksi(100000)"
      ],
      "metadata": {
        "id": "eitzekkYkycQ",
        "colab": {
          "base_uri": "https://localhost:8080/"
        },
        "outputId": "844d42ec-680e-474d-e0c3-040bf851dbcb"
      },
      "execution_count": 2,
      "outputs": [
        {
          "output_type": "stream",
          "name": "stdout",
          "text": [
            "Saldo Gopay Anda saat ini:  90000\n",
            "Top up berhasil. Saldo Anda Gopay sekarang:  110000\n",
            "Transaksi berhasil. Saldo Anda Gopay sekarang:  90000\n",
            "\n",
            "Saldo Toped Anda saat ini:  0\n",
            "Transaksi ke akun Toped gagal.\n",
            "Saldo Toped Anda saat ini:  0\n",
            "Transaksi ke akun Toped gagal.\n"
          ]
        }
      ]
    }
  ]
}