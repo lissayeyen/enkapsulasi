{
  "nbformat": 4,
  "nbformat_minor": 0,
  "metadata": {
    "colab": {
      "provenance": [],
      "include_colab_link": true
    },
    "kernelspec": {
      "name": "python3",
      "display_name": "Python 3"
    },
    "language_info": {
      "name": "python"
    }
  },
  "cells": [
    {
      "cell_type": "markdown",
      "metadata": {
        "id": "view-in-github",
        "colab_type": "text"
      },
      "source": [
        "<a href=\"https://colab.research.google.com/github/lissayeyen/enkapsulasi/blob/main/Copy_of_Tugas_Overloading_2.ipynb\" target=\"_parent\"><img src=\"https://colab.research.google.com/assets/colab-badge.svg\" alt=\"Open In Colab\"/></a>"
      ]
    },
    {
      "cell_type": "code",
      "execution_count": 2,
      "metadata": {
        "id": "5zCytCeM1uD4"
      },
      "outputs": [],
      "source": [
        "class Nama:\n",
        "  def hasil(self, num1 = \"\", num2 = \"\", num3 = \"\", num4 = \"\", num5 = \"\"):\n",
        "    print(num1 + num2 + num3 + num4 + num5)\n"
      ]
    },
    {
      "cell_type": "code",
      "source": [
        "coba = Nama()\n",
        "\n",
        "coba.hasil(\" Yeyen \", \" Lintang \", \" Sari \")\n",
        "coba.hasil(\" Arum \", \" Sekar \", \" Kinasih \")\n",
        "coba.hasil(\" Bungah \", \" Citra \", \" Lestari \")\n",
        "coba.hasil(\" Nadia \", \" Erica \")\n",
        "coba.hasil(\" Nuril \", \" Izza \", \" Nafisa \")"
      ],
      "metadata": {
        "id": "liQBcJWZ12MN",
        "colab": {
          "base_uri": "https://localhost:8080/"
        },
        "outputId": "c67a6f41-9e97-49b5-9fe0-e95dbd87a99a"
      },
      "execution_count": 4,
      "outputs": [
        {
          "output_type": "stream",
          "name": "stdout",
          "text": [
            " Yeyen  Lintang  Sari \n",
            " Arum  Sekar  Kinasih \n",
            " Bungah  Citra  Lestari \n",
            " Nadia  Erica \n",
            " Nuril  Izza  Nafisa \n"
          ]
        }
      ]
    },
    {
      "cell_type": "code",
      "source": [
        "#Tulisakan kesimpulan dari materi Overloading menurut pemahaman anda!\n",
        "print(\"Overloading adalah konsep di mana sebuah kelas dapat memiliki beberapa method dengan nama yang sama tetapi dengan parameter yang berbeda.\")\n",
        "print(\"Dalam Python, kita tidak bisa membuat beberapa method yang sama dengan parameter yang berbeda secara sekaligus.\")\n",
        "print(\"Kita bisa membuat efek overloading menggunakan dua buah trik, yaitu menggunakan variabel args, dan default parameter.\")\n",
        "print(\"Jika num3 dan num4 tidak disertakan dalam pemanggilan method hasil() maka keduanya diberi nilai 0.\")"
      ],
      "metadata": {
        "id": "xwFmppIG3JGE",
        "colab": {
          "base_uri": "https://localhost:8080/"
        },
        "outputId": "ea8247ad-fe7f-4eaf-a8e8-4a62807c8034"
      },
      "execution_count": 5,
      "outputs": [
        {
          "output_type": "stream",
          "name": "stdout",
          "text": [
            "Overloading adalah konsep di mana sebuah kelas dapat memiliki beberapa method dengan nama yang sama tetapi dengan parameter yang berbeda.\n",
            "Dalam Python, kita tidak bisa membuat beberapa method yang sama dengan parameter yang berbeda secara sekaligus.\n",
            "Kita bisa membuat efek overloading menggunakan dua buah trik, yaitu menggunakan variabel args, dan default parameter.\n",
            "Jika num3 dan num4 tidak disertakan dalam pemanggilan method hasil() maka keduanya diberi nilai 0.\n"
          ]
        }
      ]
    }
  ]
}